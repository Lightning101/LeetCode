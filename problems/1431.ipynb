{
 "cells": [
  {
   "cell_type": "markdown",
   "id": "7019abb0",
   "metadata": {},
   "source": [
    "### Comments\n",
    "\n",
    "Approch really comes down to finding the largest element then doing a comparison with other children with extra candies added on.\n",
    "### Complexity:\n",
    "\n",
    "***Time***: O(2n) == O(n)\n",
    "\n",
    "* Since we need to find the largest element.\n",
    "* Then do the comparison again over the whole array.\n",
    "\n",
    "***Space***: O(n)\n",
    "* Array of answers which need to be the same size as the children."
   ]
  },
  {
   "cell_type": "code",
   "execution_count": null,
   "id": "f561ef03",
   "metadata": {},
   "outputs": [],
   "source": [
    "class Solution:\n",
    "    def kidsWithCandies(self, candies: list[int], extraCandies: int) -> list[bool]:\n",
    "\n",
    "        largest = max(candies)\n",
    "        size = len(candies)\n",
    "        ans = [False] * size\n",
    "        for i in range(size):\n",
    "            if (candies[i] + extraCandies) >= largest:\n",
    "                ans[i] = True\n",
    "\n",
    "        return ans\n",
    "\n",
    "\n",
    "s = Solution()"
   ]
  }
 ],
 "metadata": {
  "kernelspec": {
   "display_name": ".pyenv",
   "language": "python",
   "name": "python3"
  },
  "language_info": {
   "codemirror_mode": {
    "name": "ipython",
    "version": 3
   },
   "file_extension": ".py",
   "mimetype": "text/x-python",
   "name": "python",
   "nbconvert_exporter": "python",
   "pygments_lexer": "ipython3",
   "version": "3.13.1"
  }
 },
 "nbformat": 4,
 "nbformat_minor": 5
}
