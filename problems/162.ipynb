{
 "cells": [
  {
   "cell_type": "markdown",
   "id": "7019abb0",
   "metadata": {},
   "source": [
    "### Comments\n",
    "***This problem can be solved using binary search***\n",
    "\n",
    "The keys lie in understanding that:\n",
    "\n",
    "* A peak element is a element that is larger than its neighbors. With the case being that it doesnt mean there has to be 2 neighbours.\n",
    "* Lastly its is guaranteed that there will be multiple  peaks as the condition nums[i] != nums[i + 1] for all valid i.\n",
    "\n",
    "\n",
    "### Complexity:\n",
    "\n",
    "***Time***: O(log(n))\n",
    "\n",
    "***Space***: O(1)"
   ]
  },
  {
   "cell_type": "code",
   "execution_count": null,
   "id": "f561ef03",
   "metadata": {},
   "outputs": [],
   "source": [
    "class Solution:\n",
    "\n",
    "    def findPeakElement(self, nums: list[int]) -> int:\n",
    "        left = 0\n",
    "        right = len(nums) - 1\n",
    "        while left < right:\n",
    "            mid = (left + right) // 2\n",
    "            if nums[mid] > nums[mid + 1]:\n",
    "                right = mid\n",
    "            else:\n",
    "                left = mid + 1\n",
    "        return left\n",
    "\n",
    "\n",
    "\n",
    "s = Solution()\n",
    "\n",
    "\n",
    "# Example 1:\n",
    "\n",
    "# Input: nums = [1,2,3,1]\n",
    "# Output: 2\n",
    "# Explanation: 3 is a peak element and your function should return the index number 2.\n",
    "print(s.findPeakElement([1, 2, 3, 1]))\n",
    "\n",
    "# Example 2:\n",
    "\n",
    "# Input: nums = [1,2,1,3,5,6,4]\n",
    "# Output: 5\n",
    "# Explanation: Your function can return either index number 1 where the peak element is 2, or index number 5 where the peak element is 6.\n",
    "print(s.findPeakElement([1, 2, 1, 3, 5, 6, 4]))\n",
    "\n",
    "\n",
    "print(s.findPeakElement([1, 2, 1, 2, 2, 2, 2]))\n",
    "\n"
   ]
  },
  {
   "cell_type": "markdown",
   "id": "3cc072bd",
   "metadata": {},
   "source": [
    "Place holder"
   ]
  },
  {
   "cell_type": "markdown",
   "id": "3c292e17",
   "metadata": {},
   "source": [
    "### Community References:\n"
   ]
  }
 ],
 "metadata": {
  "kernelspec": {
   "display_name": ".pyenv",
   "language": "python",
   "name": "python3"
  },
  "language_info": {
   "codemirror_mode": {
    "name": "ipython",
    "version": 3
   },
   "file_extension": ".py",
   "mimetype": "text/x-python",
   "name": "python",
   "nbconvert_exporter": "python",
   "pygments_lexer": "ipython3",
   "version": "3.13.1"
  }
 },
 "nbformat": 4,
 "nbformat_minor": 5
}
