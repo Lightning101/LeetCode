{
 "cells": [
  {
   "cell_type": "markdown",
   "id": "7019abb0",
   "metadata": {},
   "source": [
    "Imports"
   ]
  },
  {
   "cell_type": "code",
   "execution_count": null,
   "id": "4cc0ded3",
   "metadata": {},
   "outputs": [],
   "source": []
  },
  {
   "cell_type": "markdown",
   "id": "1a708e51",
   "metadata": {},
   "source": [
    "Problem"
   ]
  },
  {
   "cell_type": "code",
   "execution_count": 16,
   "id": "f561ef03",
   "metadata": {},
   "outputs": [],
   "source": [
    "class Solution:\n",
    "    def isSubsequence(self, s: str, t: str) -> bool:\n",
    "        size = len(s)\n",
    "        if(size==0):\n",
    "            return True\n",
    "\n",
    "        p1 = 0\n",
    "        for c in t:\n",
    "            if(c == s[p1]):\n",
    "                p1+=1\n",
    "            if(p1==size):\n",
    "                return True\n",
    "        return False"
   ]
  },
  {
   "cell_type": "markdown",
   "id": "066125db",
   "metadata": {},
   "source": [
    "# Comments\n",
    "***Problem can be solved using a 2 pointer apporach.***\n",
    "\n",
    "Where one is kept on the substring and the other on the main string.\n",
    "\n",
    "By iterating over you check for a match and move forward the pointer.\n",
    "\n",
    "Note that it that substring in this case is defined as: \"A subsequence of a string is a new string that is formed from the original string by deleting some (can be none) of the characters without disturbing the relative positions of the remaining characters.\"\n",
    "\n",
    "Otherwise a another solution for an exact match would have you reset the p1 pointer when the character doesnt match.\n",
    "```\n",
    "class Solution:\n",
    "    def isSubsequence(self, s: str, t: str) -> bool:\n",
    "        size = len(s)\n",
    "        if(size==0):\n",
    "            return True\n",
    "\n",
    "        p1 = 0\n",
    "        for c in t:\n",
    "            if(c == s[p1]):\n",
    "                p1+=1\n",
    "            else:\n",
    "                p1=0\n",
    "            if(p1==size):\n",
    "                return True\n",
    "        return False\n",
    "```\n",
    "Constraints:\n",
    "\n",
    "0 <= s.length <= 100\n",
    "\n",
    "0 <= t.length <= 104\n",
    "\n",
    "s and t consist only of lowercase English letters.\n",
    "\n",
    "Time Complexity: O(t)\n",
    "\n",
    "As worst case we iterate over all of t to find the last required character or if it doesnt match.\n"
   ]
  },
  {
   "cell_type": "markdown",
   "id": "3cee0159",
   "metadata": {},
   "source": [
    "Boiler plate"
   ]
  },
  {
   "cell_type": "code",
   "execution_count": 20,
   "id": "abc29ee1",
   "metadata": {},
   "outputs": [],
   "source": [
    "s = Solution()"
   ]
  },
  {
   "cell_type": "markdown",
   "id": "c827303e",
   "metadata": {},
   "source": [
    "Test Cases"
   ]
  },
  {
   "cell_type": "markdown",
   "id": "372b5ddf",
   "metadata": {},
   "source": [
    "Example 1:\n",
    "\n",
    "Input: s = \"abc\", t = \"ahbgdc\"\n",
    "Output: true"
   ]
  },
  {
   "cell_type": "code",
   "execution_count": 21,
   "id": "73e4d06c",
   "metadata": {},
   "outputs": [
    {
     "data": {
      "text/plain": [
       "True"
      ]
     },
     "execution_count": 21,
     "metadata": {},
     "output_type": "execute_result"
    }
   ],
   "source": [
    "s.isSubsequence(\"abc\",\"ahbgdc\")"
   ]
  },
  {
   "cell_type": "markdown",
   "id": "cd762f3c",
   "metadata": {},
   "source": [
    "Input: s = \"axc\", t = \"ahbgdc\"\n",
    "Output: false"
   ]
  },
  {
   "cell_type": "code",
   "execution_count": 22,
   "id": "d39530c2",
   "metadata": {},
   "outputs": [
    {
     "data": {
      "text/plain": [
       "False"
      ]
     },
     "execution_count": 22,
     "metadata": {},
     "output_type": "execute_result"
    }
   ],
   "source": [
    "s.isSubsequence(\"axc\",\"ahbgdc\")"
   ]
  }
 ],
 "metadata": {
  "kernelspec": {
   "display_name": ".pyenv",
   "language": "python",
   "name": "python3"
  },
  "language_info": {
   "codemirror_mode": {
    "name": "ipython",
    "version": 3
   },
   "file_extension": ".py",
   "mimetype": "text/x-python",
   "name": "python",
   "nbconvert_exporter": "python",
   "pygments_lexer": "ipython3",
   "version": "3.13.1"
  }
 },
 "nbformat": 4,
 "nbformat_minor": 5
}
