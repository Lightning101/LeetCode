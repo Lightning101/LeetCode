{
 "cells": [
  {
   "cell_type": "markdown",
   "id": "46191de9",
   "metadata": {},
   "source": [
    "\n",
    "### Comments\n",
    "\n",
    "* Helps to think of a recursive math definition for the problem. So in this case it was:\n",
    "\n",
    "***uniquePaths(x,y) = uniquePaths(x-1,y) + uniquePaths(x,y-1)***\n",
    "\n",
    "For the given limits ***{ 0<=x < m, 0<=y < n}***\n",
    "\n",
    "### Complexity:\n",
    "\n",
    "***Time***: O(n*m)\n",
    "\n",
    "***Space***: O(n*m)- For keeping the array. Could be optimized by using a map and deleting the m-2 row as it will no longer be needed for processing the result.\n"
   ]
  },
  {
   "cell_type": "code",
   "execution_count": 8,
   "id": "f561ef03",
   "metadata": {},
   "outputs": [
    {
     "name": "stdout",
     "output_type": "stream",
     "text": [
      "3\n"
     ]
    }
   ],
   "source": [
    "class Solution:\n",
    "    def uniquePaths(self, m: int, n: int) -> int:\n",
    "\n",
    "        # Optimization since edges will always be 1\n",
    "        dp = [[1 if i==0 or j ==0 else 0 for i in range(n)] for j in range(m)]\n",
    "\n",
    "        # Seems counter intutive but stops us from having to do this\n",
    "        dp[0][0] = 1\n",
    "        # if(m ==1 and n == 1):\n",
    "        #     return 1\n",
    "\n",
    "        # if(n>1):\n",
    "        #     dp[0][1] = 1\n",
    "        # if(m>1):\n",
    "        #     dp[1][0] = 1\n",
    "\n",
    "        # Start off the edges\n",
    "        for row in range(1,m):\n",
    "            for col in range(1,n):\n",
    "                if row - 1 > -1:\n",
    "                    dp[row][col] += dp[row - 1][col]\n",
    "\n",
    "                if col - 1 > -1:\n",
    "                    dp[row][col] += dp[row][col - 1]\n",
    "\n",
    "        return dp[m - 1][n - 1]\n",
    "\n",
    "\n",
    "s = Solution()\n",
    "\n",
    "# Example 1:\n",
    "# Input: m = 3, n = 7\n",
    "# Output: 28\n",
    "print(s.uniquePaths(3, 7))\n",
    "# Example 2:\n",
    "\n",
    "# Input: m = 3, n = 2\n",
    "# Output: 3\n",
    "# Explanation: From the top-left corner, there are a total of 3 ways to reach the bottom-right corner:\n",
    "# 1. Right -> Down -> Down\n",
    "# 2. Down -> Down -> Right\n",
    "print(s.uniquePaths(3, 2))        "
   ]
  }
 ],
 "metadata": {
  "kernelspec": {
   "display_name": ".pyenv",
   "language": "python",
   "name": "python3"
  },
  "language_info": {
   "codemirror_mode": {
    "name": "ipython",
    "version": 3
   },
   "file_extension": ".py",
   "mimetype": "text/x-python",
   "name": "python",
   "nbconvert_exporter": "python",
   "pygments_lexer": "ipython3",
   "version": "3.13.1"
  }
 },
 "nbformat": 4,
 "nbformat_minor": 5
}
