{
 "cells": [
  {
   "cell_type": "markdown",
   "id": "7019abb0",
   "metadata": {},
   "source": [
    "### Comments\n",
    "***!Must revisit***\n",
    "\n",
    "* Even with after reading a solution I find this problem hard to approach and am humbled. I had thought that medium level questions were comfortable waters but am still learning somthing everyday.\n",
    "\n",
    "\n",
    "* Answer from leetcode\n",
    "\n",
    "### Complexity:\n",
    "\n",
    "***Time***: O(n)\n",
    "\n",
    "***Space***:O(n)"
   ]
  },
  {
   "cell_type": "code",
   "execution_count": null,
   "id": "f561ef03",
   "metadata": {},
   "outputs": [],
   "source": [
    "from functools import lru_cache\n",
    "\n",
    "\n",
    "class Solution:\n",
    "    @lru_cache\n",
    "    def f(self, k):\n",
    "        if k <= 2:\n",
    "            return k\n",
    "        return (self.f(k - 1) + self.f(k - 2) + 2 * self.p(k - 1)) % 1_000_000_007\n",
    "\n",
    "    @lru_cache\n",
    "    def p(self, k):\n",
    "        if k == 2:\n",
    "            return 1\n",
    "        return self.f(k - 2) + self.p(k - 1)\n",
    "\n",
    "    def numTilings(self, n: int) -> int:\n",
    "        return self.f(n)\n",
    "\n",
    "\n",
    "s = Solution()\n",
    "\n",
    "# Example 1:\n",
    "\n",
    "\n",
    "# Input: n = 3\n",
    "# Output: 5\n",
    "# Explanation: The five different ways are shown above.\n",
    "\n",
    "print(s.numTilings(3))\n",
    "# Example 2:\n",
    "\n",
    "# Input: n = 1\n",
    "# Output: 1\n",
    "# print(s.numTilings(1))\n",
    "\n",
    "\n",
    "# 11\n",
    "print(s.numTilings(4))\n",
    "\n",
    "# 24\n",
    "print(s.numTilings(5))\n",
    "\n",
    "# print(s.numTilings(1000))"
   ]
  },
  {
   "cell_type": "markdown",
   "id": "3cc072bd",
   "metadata": {},
   "source": [
    "Place holder"
   ]
  },
  {
   "cell_type": "markdown",
   "id": "3c292e17",
   "metadata": {},
   "source": [
    "### Community References:\n"
   ]
  }
 ],
 "metadata": {
  "kernelspec": {
   "display_name": ".pyenv",
   "language": "python",
   "name": "python3"
  },
  "language_info": {
   "codemirror_mode": {
    "name": "ipython",
    "version": 3
   },
   "file_extension": ".py",
   "mimetype": "text/x-python",
   "name": "python",
   "nbconvert_exporter": "python",
   "pygments_lexer": "ipython3",
   "version": "3.13.1"
  }
 },
 "nbformat": 4,
 "nbformat_minor": 5
}
