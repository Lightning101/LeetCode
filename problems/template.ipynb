{
 "cells": [
  {
   "cell_type": "markdown",
   "id": "7019abb0",
   "metadata": {},
   "source": [
    "### Comments\n",
    "\n",
    "\n",
    "### Complexity:\n",
    "\n",
    "***Time***:\n",
    "\n",
    "***Space***: "
   ]
  },
  {
   "cell_type": "code",
   "execution_count": null,
   "id": "f561ef03",
   "metadata": {},
   "outputs": [],
   "source": [
    "class Solution():\n",
    "    pass\n",
    "\n",
    "\n",
    "s = Solution()"
   ]
  },
  {
   "cell_type": "markdown",
   "id": "3cc072bd",
   "metadata": {},
   "source": [
    "Place holder"
   ]
  },
  {
   "cell_type": "markdown",
   "id": "3c292e17",
   "metadata": {},
   "source": [
    "### Community References:\n"
   ]
  }
 ],
 "metadata": {
  "kernelspec": {
   "display_name": ".pyenv",
   "language": "python",
   "name": "python3"
  },
  "language_info": {
   "codemirror_mode": {
    "name": "ipython",
    "version": 3
   },
   "file_extension": ".py",
   "mimetype": "text/x-python",
   "name": "python",
   "nbconvert_exporter": "python",
   "pygments_lexer": "ipython3",
   "version": "3.13.1"
  }
 },
 "nbformat": 4,
 "nbformat_minor": 5
}
